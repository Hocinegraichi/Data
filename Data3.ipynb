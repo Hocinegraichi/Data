{
 "cells": [
  {
   "cell_type": "code",
   "execution_count": 210,
   "id": "420ccb85",
   "metadata": {},
   "outputs": [],
   "source": [
    "import pandas as pd\n",
    "import numpy as np\n",
    "import matplotlib.pyplot as plt"
   ]
  },
  {
   "cell_type": "code",
   "execution_count": 211,
   "id": "c93d0341",
   "metadata": {},
   "outputs": [],
   "source": [
    "df0 = pd.read_csv('course_grades.csv',sep=';')\n",
    "df = df0.iloc[:,-5:]\n",
    "df1=pd.DataFrame()"
   ]
  },
  {
   "cell_type": "code",
   "execution_count": 212,
   "id": "4c7735ad",
   "metadata": {},
   "outputs": [
    {
     "data": {
      "text/html": [
       "<div>\n",
       "<style scoped>\n",
       "    .dataframe tbody tr th:only-of-type {\n",
       "        vertical-align: middle;\n",
       "    }\n",
       "\n",
       "    .dataframe tbody tr th {\n",
       "        vertical-align: top;\n",
       "    }\n",
       "\n",
       "    .dataframe thead th {\n",
       "        text-align: right;\n",
       "    }\n",
       "</style>\n",
       "<table border=\"1\" class=\"dataframe\">\n",
       "  <thead>\n",
       "    <tr style=\"text-align: right;\">\n",
       "      <th></th>\n",
       "      <th>STACKexer</th>\n",
       "      <th>exercises</th>\n",
       "      <th>exam1</th>\n",
       "      <th>exam2</th>\n",
       "      <th>grade</th>\n",
       "    </tr>\n",
       "  </thead>\n",
       "  <tbody>\n",
       "    <tr>\n",
       "      <th>0</th>\n",
       "      <td>0.00</td>\n",
       "      <td>0.0</td>\n",
       "      <td>0.0</td>\n",
       "      <td>3.0</td>\n",
       "      <td>0.0</td>\n",
       "    </tr>\n",
       "    <tr>\n",
       "      <th>1</th>\n",
       "      <td>6.55</td>\n",
       "      <td>7.0</td>\n",
       "      <td>21.0</td>\n",
       "      <td>0.0</td>\n",
       "      <td>1.0</td>\n",
       "    </tr>\n",
       "    <tr>\n",
       "      <th>2</th>\n",
       "      <td>8.51</td>\n",
       "      <td>8.0</td>\n",
       "      <td>15.0</td>\n",
       "      <td>16.0</td>\n",
       "      <td>3.0</td>\n",
       "    </tr>\n",
       "    <tr>\n",
       "      <th>3</th>\n",
       "      <td>6.00</td>\n",
       "      <td>3.0</td>\n",
       "      <td>0.0</td>\n",
       "      <td>0.0</td>\n",
       "      <td>0.0</td>\n",
       "    </tr>\n",
       "    <tr>\n",
       "      <th>4</th>\n",
       "      <td>0.00</td>\n",
       "      <td>0.0</td>\n",
       "      <td>0.0</td>\n",
       "      <td>0.0</td>\n",
       "      <td>0.0</td>\n",
       "    </tr>\n",
       "    <tr>\n",
       "      <th>...</th>\n",
       "      <td>...</td>\n",
       "      <td>...</td>\n",
       "      <td>...</td>\n",
       "      <td>...</td>\n",
       "      <td>...</td>\n",
       "    </tr>\n",
       "    <tr>\n",
       "      <th>616</th>\n",
       "      <td>9.99</td>\n",
       "      <td>8.0</td>\n",
       "      <td>25.0</td>\n",
       "      <td>21.0</td>\n",
       "      <td>5.0</td>\n",
       "    </tr>\n",
       "    <tr>\n",
       "      <th>617</th>\n",
       "      <td>10.57</td>\n",
       "      <td>7.0</td>\n",
       "      <td>20.0</td>\n",
       "      <td>12.0</td>\n",
       "      <td>3.0</td>\n",
       "    </tr>\n",
       "    <tr>\n",
       "      <th>618</th>\n",
       "      <td>0.00</td>\n",
       "      <td>0.0</td>\n",
       "      <td>0.0</td>\n",
       "      <td>0.0</td>\n",
       "      <td>0.0</td>\n",
       "    </tr>\n",
       "    <tr>\n",
       "      <th>619</th>\n",
       "      <td>8.15</td>\n",
       "      <td>8.0</td>\n",
       "      <td>20.0</td>\n",
       "      <td>22.0</td>\n",
       "      <td>5.0</td>\n",
       "    </tr>\n",
       "    <tr>\n",
       "      <th>620</th>\n",
       "      <td>3.17</td>\n",
       "      <td>0.0</td>\n",
       "      <td>11.0</td>\n",
       "      <td>9.0</td>\n",
       "      <td>0.0</td>\n",
       "    </tr>\n",
       "  </tbody>\n",
       "</table>\n",
       "<p>621 rows × 5 columns</p>\n",
       "</div>"
      ],
      "text/plain": [
       "     STACKexer  exercises  exam1  exam2  grade\n",
       "0         0.00        0.0    0.0    3.0    0.0\n",
       "1         6.55        7.0   21.0    0.0    1.0\n",
       "2         8.51        8.0   15.0   16.0    3.0\n",
       "3         6.00        3.0    0.0    0.0    0.0\n",
       "4         0.00        0.0    0.0    0.0    0.0\n",
       "..         ...        ...    ...    ...    ...\n",
       "616       9.99        8.0   25.0   21.0    5.0\n",
       "617      10.57        7.0   20.0   12.0    3.0\n",
       "618       0.00        0.0    0.0    0.0    0.0\n",
       "619       8.15        8.0   20.0   22.0    5.0\n",
       "620       3.17        0.0   11.0    9.0    0.0\n",
       "\n",
       "[621 rows x 5 columns]"
      ]
     },
     "execution_count": 212,
     "metadata": {},
     "output_type": "execute_result"
    }
   ],
   "source": [
    "def clean (s): # define new function which returns string until character \",\"\n",
    "\n",
    "    converted_ =float(s.replace(\",\", \".\")) #split (\",\", -1) [0] + \".\" + s.split (\",\", -1) [1]\n",
    "    return converted_\n",
    "\n",
    "\n",
    "for col in df.columns:\n",
    "    df1 [col] = df [col]. apply (clean)\n",
    "\n",
    "\n",
    "\n",
    "df1.to_csv('converted_data.csv', index=False) \n",
    "df = pd.read_csv('converted_data.csv',sep=',')\n",
    "df"
   ]
  },
  {
   "cell_type": "markdown",
   "id": "6a3072b6",
   "metadata": {},
   "source": [
    "# Dates and Times"
   ]
  },
  {
   "cell_type": "code",
   "execution_count": 213,
   "id": "e4613bc5",
   "metadata": {},
   "outputs": [],
   "source": [
    "from datetime import datetime "
   ]
  },
  {
   "cell_type": "code",
   "execution_count": 214,
   "id": "3f607f13",
   "metadata": {},
   "outputs": [
    {
     "data": {
      "text/plain": [
       "datetime.datetime(2022, 6, 23, 11, 57, 42, 154451)"
      ]
     },
     "execution_count": 214,
     "metadata": {},
     "output_type": "execute_result"
    }
   ],
   "source": [
    "datetime.now()"
   ]
  },
  {
   "cell_type": "code",
   "execution_count": 215,
   "id": "b3ce9a7d",
   "metadata": {},
   "outputs": [
    {
     "data": {
      "text/plain": [
       "6"
      ]
     },
     "execution_count": 215,
     "metadata": {},
     "output_type": "execute_result"
    }
   ],
   "source": [
    "datetime.now().month"
   ]
  },
  {
   "cell_type": "code",
   "execution_count": 216,
   "id": "fdf69f7a",
   "metadata": {},
   "outputs": [
    {
     "data": {
      "text/plain": [
       "2022"
      ]
     },
     "execution_count": 216,
     "metadata": {},
     "output_type": "execute_result"
    }
   ],
   "source": [
    "datetime.now().year"
   ]
  },
  {
   "cell_type": "code",
   "execution_count": 217,
   "id": "23ea8b26",
   "metadata": {},
   "outputs": [],
   "source": [
    "dt1 = datetime(2022,1,1)"
   ]
  },
  {
   "cell_type": "code",
   "execution_count": 218,
   "id": "a42ab1d9",
   "metadata": {},
   "outputs": [
    {
     "data": {
      "text/plain": [
       "datetime.timedelta(days=173, seconds=43062, microseconds=706450)"
      ]
     },
     "execution_count": 218,
     "metadata": {},
     "output_type": "execute_result"
    }
   ],
   "source": [
    "delta = datetime.now() - dt1\n",
    "delta"
   ]
  },
  {
   "cell_type": "code",
   "execution_count": 219,
   "id": "0c1b0d45",
   "metadata": {},
   "outputs": [
    {
     "data": {
      "text/plain": [
       "5.766666666666667"
      ]
     },
     "execution_count": 219,
     "metadata": {},
     "output_type": "execute_result"
    }
   ],
   "source": [
    "delta.days/30"
   ]
  },
  {
   "cell_type": "code",
   "execution_count": 220,
   "id": "94e9bc66",
   "metadata": {},
   "outputs": [
    {
     "data": {
      "text/plain": [
       "'01.01.2022'"
      ]
     },
     "execution_count": 220,
     "metadata": {},
     "output_type": "execute_result"
    }
   ],
   "source": [
    "# DateTime to string\n",
    "\n",
    "dt1.strftime('%d.%m.%Y')"
   ]
  },
  {
   "cell_type": "code",
   "execution_count": 221,
   "id": "7a1462bf",
   "metadata": {},
   "outputs": [
    {
     "data": {
      "text/plain": [
       "'01/01/2022'"
      ]
     },
     "execution_count": 221,
     "metadata": {},
     "output_type": "execute_result"
    }
   ],
   "source": [
    "dt1.strftime('%d/%m/%Y')"
   ]
  },
  {
   "cell_type": "code",
   "execution_count": 222,
   "id": "6fd39caf",
   "metadata": {},
   "outputs": [
    {
     "data": {
      "text/plain": [
       "datetime.datetime(2022, 1, 1, 0, 0)"
      ]
     },
     "execution_count": 222,
     "metadata": {},
     "output_type": "execute_result"
    }
   ],
   "source": [
    "dt2 = '01.1.2022'\n",
    "dt2=datetime.strptime(dt2,'%d.%m.%Y')\n",
    "dt2"
   ]
  },
  {
   "cell_type": "code",
   "execution_count": 223,
   "id": "381aecf8",
   "metadata": {},
   "outputs": [
    {
     "name": "stdout",
     "output_type": "stream",
     "text": [
      "Thursday 23.June.2022 11:57:43\n"
     ]
    }
   ],
   "source": [
    "print(datetime.now().strftime('%A %d.%B.%Y %H:%M:%S'))"
   ]
  },
  {
   "cell_type": "code",
   "execution_count": 224,
   "id": "63c86875",
   "metadata": {},
   "outputs": [
    {
     "data": {
      "text/plain": [
       "2011-01-02   -0.980462\n",
       "2011-01-05    2.140005\n",
       "2011-01-07   -1.302247\n",
       "2011-01-08   -1.741387\n",
       "2011-01-10   -1.305950\n",
       "2011-01-12    1.546204\n",
       "dtype: float64"
      ]
     },
     "execution_count": 224,
     "metadata": {},
     "output_type": "execute_result"
    }
   ],
   "source": [
    "\n",
    "dates = [datetime(2011, 1, 2),\n",
    "         datetime(2011, 1, 5),\n",
    "         datetime(2011, 1, 7),\n",
    "         datetime(2011, 1, 8),\n",
    "         datetime(2011, 1, 10),\n",
    "         datetime(2011, 1, 12)]\n",
    "ts = pd.Series(np.random.randn(6), index=dates)\n",
    "ts.index\n",
    "ts"
   ]
  },
  {
   "cell_type": "code",
   "execution_count": 225,
   "id": "18a36d98",
   "metadata": {},
   "outputs": [
    {
     "data": {
      "text/plain": [
       "-0.9804624448136998"
      ]
     },
     "execution_count": 225,
     "metadata": {},
     "output_type": "execute_result"
    }
   ],
   "source": [
    "ts[0]"
   ]
  },
  {
   "cell_type": "code",
   "execution_count": 226,
   "id": "2f70a617",
   "metadata": {},
   "outputs": [
    {
     "data": {
      "text/plain": [
       "2011-01-07   -1.302247\n",
       "2011-01-08   -1.741387\n",
       "2011-01-10   -1.305950\n",
       "2011-01-12    1.546204\n",
       "dtype: float64"
      ]
     },
     "execution_count": 226,
     "metadata": {},
     "output_type": "execute_result"
    }
   ],
   "source": [
    "ts[datetime(2011,1,7):] #slice from jan 7th onwards"
   ]
  },
  {
   "cell_type": "code",
   "execution_count": 227,
   "id": "8cf58107",
   "metadata": {},
   "outputs": [
    {
     "data": {
      "text/plain": [
       "2011-01-05    2.140005\n",
       "2011-01-07   -1.302247\n",
       "2011-01-08   -1.741387\n",
       "2011-01-10   -1.305950\n",
       "dtype: float64"
      ]
     },
     "execution_count": 227,
     "metadata": {},
     "output_type": "execute_result"
    }
   ],
   "source": [
    "ts[datetime(2011,1,5): datetime(2011,1,10)]"
   ]
  },
  {
   "cell_type": "markdown",
   "id": "59277a0c",
   "metadata": {},
   "source": [
    "# Rolling Average"
   ]
  },
  {
   "cell_type": "code",
   "execution_count": 246,
   "id": "12e52766",
   "metadata": {},
   "outputs": [
    {
     "name": "stderr",
     "output_type": "stream",
     "text": [
      "C:\\Users\\hocineg\\AppData\\Local\\Temp\\ipykernel_9264\\3524287924.py:3: FutureWarning: Dropping of nuisance columns in DataFrame reductions (with 'numeric_only=None') is deprecated; in a future version this will raise TypeError.  Select only valid columns before calling the reduction.\n",
      "  df = df.fillna (df.mean ())\n"
     ]
    },
    {
     "data": {
      "text/html": [
       "<div>\n",
       "<style scoped>\n",
       "    .dataframe tbody tr th:only-of-type {\n",
       "        vertical-align: middle;\n",
       "    }\n",
       "\n",
       "    .dataframe tbody tr th {\n",
       "        vertical-align: top;\n",
       "    }\n",
       "\n",
       "    .dataframe thead th {\n",
       "        text-align: right;\n",
       "    }\n",
       "</style>\n",
       "<table border=\"1\" class=\"dataframe\">\n",
       "  <thead>\n",
       "    <tr style=\"text-align: right;\">\n",
       "      <th></th>\n",
       "      <th>datetime</th>\n",
       "      <th>Vancouver</th>\n",
       "      <th>Portland</th>\n",
       "      <th>San Francisco</th>\n",
       "      <th>Seattle</th>\n",
       "      <th>Los Angeles</th>\n",
       "      <th>San Diego</th>\n",
       "      <th>Las Vegas</th>\n",
       "      <th>Phoenix</th>\n",
       "      <th>Albuquerque</th>\n",
       "      <th>...</th>\n",
       "      <th>New York</th>\n",
       "      <th>Montreal</th>\n",
       "      <th>Boston</th>\n",
       "      <th>Beersheba</th>\n",
       "      <th>Tel Aviv District</th>\n",
       "      <th>Eilat</th>\n",
       "      <th>Haifa</th>\n",
       "      <th>Nahariyya</th>\n",
       "      <th>Jerusalem</th>\n",
       "      <th>datetime2</th>\n",
       "    </tr>\n",
       "  </thead>\n",
       "  <tbody>\n",
       "    <tr>\n",
       "      <th>0</th>\n",
       "      <td>2012-10-01 12:00:00</td>\n",
       "      <td>78.272727</td>\n",
       "      <td>78.727273</td>\n",
       "      <td>83.0</td>\n",
       "      <td>78.0</td>\n",
       "      <td>88.0</td>\n",
       "      <td>79.909091</td>\n",
       "      <td>20.727273</td>\n",
       "      <td>24.181818</td>\n",
       "      <td>48.909091</td>\n",
       "      <td>...</td>\n",
       "      <td>56.272727</td>\n",
       "      <td>75.727273</td>\n",
       "      <td>68.0</td>\n",
       "      <td>54.818182</td>\n",
       "      <td>62.909091</td>\n",
       "      <td>25.0</td>\n",
       "      <td>51.0</td>\n",
       "      <td>51.0</td>\n",
       "      <td>50.0</td>\n",
       "      <td>2012-10-01 12:00:00</td>\n",
       "    </tr>\n",
       "    <tr>\n",
       "      <th>1</th>\n",
       "      <td>2012-10-01 13:00:00</td>\n",
       "      <td>76.000000</td>\n",
       "      <td>81.000000</td>\n",
       "      <td>88.0</td>\n",
       "      <td>81.0</td>\n",
       "      <td>88.0</td>\n",
       "      <td>82.000000</td>\n",
       "      <td>22.000000</td>\n",
       "      <td>23.000000</td>\n",
       "      <td>50.000000</td>\n",
       "      <td>...</td>\n",
       "      <td>58.000000</td>\n",
       "      <td>93.000000</td>\n",
       "      <td>68.0</td>\n",
       "      <td>50.000000</td>\n",
       "      <td>63.000000</td>\n",
       "      <td>22.0</td>\n",
       "      <td>51.0</td>\n",
       "      <td>51.0</td>\n",
       "      <td>50.0</td>\n",
       "      <td>2012-10-01 13:00:00</td>\n",
       "    </tr>\n",
       "    <tr>\n",
       "      <th>2</th>\n",
       "      <td>2012-10-01 14:00:00</td>\n",
       "      <td>76.000000</td>\n",
       "      <td>80.000000</td>\n",
       "      <td>87.0</td>\n",
       "      <td>80.0</td>\n",
       "      <td>88.0</td>\n",
       "      <td>81.000000</td>\n",
       "      <td>21.000000</td>\n",
       "      <td>23.000000</td>\n",
       "      <td>49.000000</td>\n",
       "      <td>...</td>\n",
       "      <td>57.000000</td>\n",
       "      <td>91.000000</td>\n",
       "      <td>68.0</td>\n",
       "      <td>51.000000</td>\n",
       "      <td>62.000000</td>\n",
       "      <td>22.0</td>\n",
       "      <td>51.0</td>\n",
       "      <td>51.0</td>\n",
       "      <td>50.0</td>\n",
       "      <td>2012-10-01 14:00:00</td>\n",
       "    </tr>\n",
       "    <tr>\n",
       "      <th>3</th>\n",
       "      <td>2012-10-01 15:00:00</td>\n",
       "      <td>76.000000</td>\n",
       "      <td>80.000000</td>\n",
       "      <td>86.0</td>\n",
       "      <td>80.0</td>\n",
       "      <td>88.0</td>\n",
       "      <td>81.000000</td>\n",
       "      <td>21.000000</td>\n",
       "      <td>23.000000</td>\n",
       "      <td>49.000000</td>\n",
       "      <td>...</td>\n",
       "      <td>57.000000</td>\n",
       "      <td>87.000000</td>\n",
       "      <td>68.0</td>\n",
       "      <td>51.000000</td>\n",
       "      <td>62.000000</td>\n",
       "      <td>22.0</td>\n",
       "      <td>51.0</td>\n",
       "      <td>51.0</td>\n",
       "      <td>50.0</td>\n",
       "      <td>2012-10-01 15:00:00</td>\n",
       "    </tr>\n",
       "    <tr>\n",
       "      <th>4</th>\n",
       "      <td>2012-10-01 16:00:00</td>\n",
       "      <td>77.000000</td>\n",
       "      <td>80.000000</td>\n",
       "      <td>85.0</td>\n",
       "      <td>79.0</td>\n",
       "      <td>88.0</td>\n",
       "      <td>81.000000</td>\n",
       "      <td>21.000000</td>\n",
       "      <td>23.000000</td>\n",
       "      <td>49.000000</td>\n",
       "      <td>...</td>\n",
       "      <td>57.000000</td>\n",
       "      <td>84.000000</td>\n",
       "      <td>68.0</td>\n",
       "      <td>52.000000</td>\n",
       "      <td>62.000000</td>\n",
       "      <td>22.0</td>\n",
       "      <td>51.0</td>\n",
       "      <td>51.0</td>\n",
       "      <td>50.0</td>\n",
       "      <td>2012-10-01 16:00:00</td>\n",
       "    </tr>\n",
       "    <tr>\n",
       "      <th>5</th>\n",
       "      <td>2012-10-01 17:00:00</td>\n",
       "      <td>78.000000</td>\n",
       "      <td>79.000000</td>\n",
       "      <td>84.0</td>\n",
       "      <td>79.0</td>\n",
       "      <td>88.0</td>\n",
       "      <td>80.000000</td>\n",
       "      <td>21.000000</td>\n",
       "      <td>24.000000</td>\n",
       "      <td>49.000000</td>\n",
       "      <td>...</td>\n",
       "      <td>57.000000</td>\n",
       "      <td>80.000000</td>\n",
       "      <td>68.0</td>\n",
       "      <td>54.000000</td>\n",
       "      <td>62.000000</td>\n",
       "      <td>23.0</td>\n",
       "      <td>51.0</td>\n",
       "      <td>51.0</td>\n",
       "      <td>50.0</td>\n",
       "      <td>2012-10-01 17:00:00</td>\n",
       "    </tr>\n",
       "    <tr>\n",
       "      <th>6</th>\n",
       "      <td>2012-10-01 18:00:00</td>\n",
       "      <td>78.000000</td>\n",
       "      <td>79.000000</td>\n",
       "      <td>83.0</td>\n",
       "      <td>78.0</td>\n",
       "      <td>88.0</td>\n",
       "      <td>80.000000</td>\n",
       "      <td>21.000000</td>\n",
       "      <td>24.000000</td>\n",
       "      <td>49.000000</td>\n",
       "      <td>...</td>\n",
       "      <td>56.000000</td>\n",
       "      <td>76.000000</td>\n",
       "      <td>68.0</td>\n",
       "      <td>55.000000</td>\n",
       "      <td>63.000000</td>\n",
       "      <td>23.0</td>\n",
       "      <td>51.0</td>\n",
       "      <td>51.0</td>\n",
       "      <td>50.0</td>\n",
       "      <td>2012-10-01 18:00:00</td>\n",
       "    </tr>\n",
       "    <tr>\n",
       "      <th>7</th>\n",
       "      <td>2012-10-01 19:00:00</td>\n",
       "      <td>79.000000</td>\n",
       "      <td>78.000000</td>\n",
       "      <td>82.0</td>\n",
       "      <td>77.0</td>\n",
       "      <td>88.0</td>\n",
       "      <td>80.000000</td>\n",
       "      <td>21.000000</td>\n",
       "      <td>24.000000</td>\n",
       "      <td>49.000000</td>\n",
       "      <td>...</td>\n",
       "      <td>56.000000</td>\n",
       "      <td>72.000000</td>\n",
       "      <td>68.0</td>\n",
       "      <td>56.000000</td>\n",
       "      <td>63.000000</td>\n",
       "      <td>23.0</td>\n",
       "      <td>51.0</td>\n",
       "      <td>51.0</td>\n",
       "      <td>50.0</td>\n",
       "      <td>2012-10-01 19:00:00</td>\n",
       "    </tr>\n",
       "    <tr>\n",
       "      <th>8</th>\n",
       "      <td>2012-10-01 20:00:00</td>\n",
       "      <td>79.000000</td>\n",
       "      <td>78.000000</td>\n",
       "      <td>81.0</td>\n",
       "      <td>77.0</td>\n",
       "      <td>88.0</td>\n",
       "      <td>79.000000</td>\n",
       "      <td>20.000000</td>\n",
       "      <td>25.000000</td>\n",
       "      <td>49.000000</td>\n",
       "      <td>...</td>\n",
       "      <td>56.000000</td>\n",
       "      <td>68.000000</td>\n",
       "      <td>68.0</td>\n",
       "      <td>57.000000</td>\n",
       "      <td>63.000000</td>\n",
       "      <td>24.0</td>\n",
       "      <td>51.0</td>\n",
       "      <td>51.0</td>\n",
       "      <td>50.0</td>\n",
       "      <td>2012-10-01 20:00:00</td>\n",
       "    </tr>\n",
       "    <tr>\n",
       "      <th>9</th>\n",
       "      <td>2012-10-01 21:00:00</td>\n",
       "      <td>80.000000</td>\n",
       "      <td>77.000000</td>\n",
       "      <td>80.0</td>\n",
       "      <td>76.0</td>\n",
       "      <td>88.0</td>\n",
       "      <td>79.000000</td>\n",
       "      <td>20.000000</td>\n",
       "      <td>25.000000</td>\n",
       "      <td>49.000000</td>\n",
       "      <td>...</td>\n",
       "      <td>55.000000</td>\n",
       "      <td>64.000000</td>\n",
       "      <td>68.0</td>\n",
       "      <td>58.000000</td>\n",
       "      <td>64.000000</td>\n",
       "      <td>24.0</td>\n",
       "      <td>51.0</td>\n",
       "      <td>51.0</td>\n",
       "      <td>50.0</td>\n",
       "      <td>2012-10-01 21:00:00</td>\n",
       "    </tr>\n",
       "    <tr>\n",
       "      <th>10</th>\n",
       "      <td>2012-10-01 22:00:00</td>\n",
       "      <td>81.000000</td>\n",
       "      <td>77.000000</td>\n",
       "      <td>79.0</td>\n",
       "      <td>76.0</td>\n",
       "      <td>88.0</td>\n",
       "      <td>78.000000</td>\n",
       "      <td>20.000000</td>\n",
       "      <td>26.000000</td>\n",
       "      <td>48.000000</td>\n",
       "      <td>...</td>\n",
       "      <td>55.000000</td>\n",
       "      <td>61.000000</td>\n",
       "      <td>68.0</td>\n",
       "      <td>59.000000</td>\n",
       "      <td>64.000000</td>\n",
       "      <td>24.0</td>\n",
       "      <td>51.0</td>\n",
       "      <td>51.0</td>\n",
       "      <td>50.0</td>\n",
       "      <td>2012-10-01 22:00:00</td>\n",
       "    </tr>\n",
       "    <tr>\n",
       "      <th>11</th>\n",
       "      <td>2012-10-01 23:00:00</td>\n",
       "      <td>81.000000</td>\n",
       "      <td>77.000000</td>\n",
       "      <td>78.0</td>\n",
       "      <td>75.0</td>\n",
       "      <td>88.0</td>\n",
       "      <td>78.000000</td>\n",
       "      <td>20.000000</td>\n",
       "      <td>26.000000</td>\n",
       "      <td>48.000000</td>\n",
       "      <td>...</td>\n",
       "      <td>55.000000</td>\n",
       "      <td>57.000000</td>\n",
       "      <td>68.0</td>\n",
       "      <td>60.000000</td>\n",
       "      <td>64.000000</td>\n",
       "      <td>25.0</td>\n",
       "      <td>51.0</td>\n",
       "      <td>51.0</td>\n",
       "      <td>50.0</td>\n",
       "      <td>2012-10-01 23:00:00</td>\n",
       "    </tr>\n",
       "  </tbody>\n",
       "</table>\n",
       "<p>12 rows × 38 columns</p>\n",
       "</div>"
      ],
      "text/plain": [
       "               datetime  Vancouver   Portland  San Francisco  Seattle  \\\n",
       "0   2012-10-01 12:00:00  78.272727  78.727273           83.0     78.0   \n",
       "1   2012-10-01 13:00:00  76.000000  81.000000           88.0     81.0   \n",
       "2   2012-10-01 14:00:00  76.000000  80.000000           87.0     80.0   \n",
       "3   2012-10-01 15:00:00  76.000000  80.000000           86.0     80.0   \n",
       "4   2012-10-01 16:00:00  77.000000  80.000000           85.0     79.0   \n",
       "5   2012-10-01 17:00:00  78.000000  79.000000           84.0     79.0   \n",
       "6   2012-10-01 18:00:00  78.000000  79.000000           83.0     78.0   \n",
       "7   2012-10-01 19:00:00  79.000000  78.000000           82.0     77.0   \n",
       "8   2012-10-01 20:00:00  79.000000  78.000000           81.0     77.0   \n",
       "9   2012-10-01 21:00:00  80.000000  77.000000           80.0     76.0   \n",
       "10  2012-10-01 22:00:00  81.000000  77.000000           79.0     76.0   \n",
       "11  2012-10-01 23:00:00  81.000000  77.000000           78.0     75.0   \n",
       "\n",
       "    Los Angeles  San Diego  Las Vegas    Phoenix  Albuquerque  ...   New York  \\\n",
       "0          88.0  79.909091  20.727273  24.181818    48.909091  ...  56.272727   \n",
       "1          88.0  82.000000  22.000000  23.000000    50.000000  ...  58.000000   \n",
       "2          88.0  81.000000  21.000000  23.000000    49.000000  ...  57.000000   \n",
       "3          88.0  81.000000  21.000000  23.000000    49.000000  ...  57.000000   \n",
       "4          88.0  81.000000  21.000000  23.000000    49.000000  ...  57.000000   \n",
       "5          88.0  80.000000  21.000000  24.000000    49.000000  ...  57.000000   \n",
       "6          88.0  80.000000  21.000000  24.000000    49.000000  ...  56.000000   \n",
       "7          88.0  80.000000  21.000000  24.000000    49.000000  ...  56.000000   \n",
       "8          88.0  79.000000  20.000000  25.000000    49.000000  ...  56.000000   \n",
       "9          88.0  79.000000  20.000000  25.000000    49.000000  ...  55.000000   \n",
       "10         88.0  78.000000  20.000000  26.000000    48.000000  ...  55.000000   \n",
       "11         88.0  78.000000  20.000000  26.000000    48.000000  ...  55.000000   \n",
       "\n",
       "     Montreal  Boston  Beersheba  Tel Aviv District  Eilat  Haifa  Nahariyya  \\\n",
       "0   75.727273    68.0  54.818182          62.909091   25.0   51.0       51.0   \n",
       "1   93.000000    68.0  50.000000          63.000000   22.0   51.0       51.0   \n",
       "2   91.000000    68.0  51.000000          62.000000   22.0   51.0       51.0   \n",
       "3   87.000000    68.0  51.000000          62.000000   22.0   51.0       51.0   \n",
       "4   84.000000    68.0  52.000000          62.000000   22.0   51.0       51.0   \n",
       "5   80.000000    68.0  54.000000          62.000000   23.0   51.0       51.0   \n",
       "6   76.000000    68.0  55.000000          63.000000   23.0   51.0       51.0   \n",
       "7   72.000000    68.0  56.000000          63.000000   23.0   51.0       51.0   \n",
       "8   68.000000    68.0  57.000000          63.000000   24.0   51.0       51.0   \n",
       "9   64.000000    68.0  58.000000          64.000000   24.0   51.0       51.0   \n",
       "10  61.000000    68.0  59.000000          64.000000   24.0   51.0       51.0   \n",
       "11  57.000000    68.0  60.000000          64.000000   25.0   51.0       51.0   \n",
       "\n",
       "    Jerusalem           datetime2  \n",
       "0        50.0 2012-10-01 12:00:00  \n",
       "1        50.0 2012-10-01 13:00:00  \n",
       "2        50.0 2012-10-01 14:00:00  \n",
       "3        50.0 2012-10-01 15:00:00  \n",
       "4        50.0 2012-10-01 16:00:00  \n",
       "5        50.0 2012-10-01 17:00:00  \n",
       "6        50.0 2012-10-01 18:00:00  \n",
       "7        50.0 2012-10-01 19:00:00  \n",
       "8        50.0 2012-10-01 20:00:00  \n",
       "9        50.0 2012-10-01 21:00:00  \n",
       "10       50.0 2012-10-01 22:00:00  \n",
       "11       50.0 2012-10-01 23:00:00  \n",
       "\n",
       "[12 rows x 38 columns]"
      ]
     },
     "execution_count": 246,
     "metadata": {},
     "output_type": "execute_result"
    }
   ],
   "source": [
    "\n",
    "df = pd.read_csv ('humidity.small.csv')\n",
    "\n",
    "df = df.fillna (df.mean ())\n",
    "\n",
    "def Convert (s):\n",
    "\n",
    "    return datetime.strptime (s, '%Y-%m-%d %H:%M:%S')\n",
    "\n",
    "df ['datetime2'] = df ['datetime']. apply (Convert)\n",
    "df"
   ]
  },
  {
   "cell_type": "code",
   "execution_count": 244,
   "id": "3d37254d",
   "metadata": {},
   "outputs": [
    {
     "data": {
      "text/html": [
       "<div>\n",
       "<style scoped>\n",
       "    .dataframe tbody tr th:only-of-type {\n",
       "        vertical-align: middle;\n",
       "    }\n",
       "\n",
       "    .dataframe tbody tr th {\n",
       "        vertical-align: top;\n",
       "    }\n",
       "\n",
       "    .dataframe thead th {\n",
       "        text-align: right;\n",
       "    }\n",
       "</style>\n",
       "<table border=\"1\" class=\"dataframe\">\n",
       "  <thead>\n",
       "    <tr style=\"text-align: right;\">\n",
       "      <th></th>\n",
       "      <th>datetime2</th>\n",
       "      <th>Vancouver</th>\n",
       "      <th>AVG</th>\n",
       "    </tr>\n",
       "  </thead>\n",
       "  <tbody>\n",
       "    <tr>\n",
       "      <th>0</th>\n",
       "      <td>2012-10-01 12:00:00</td>\n",
       "      <td>78.272727</td>\n",
       "      <td>NaN</td>\n",
       "    </tr>\n",
       "    <tr>\n",
       "      <th>1</th>\n",
       "      <td>2012-10-01 13:00:00</td>\n",
       "      <td>76.000000</td>\n",
       "      <td>76.757576</td>\n",
       "    </tr>\n",
       "    <tr>\n",
       "      <th>2</th>\n",
       "      <td>2012-10-01 14:00:00</td>\n",
       "      <td>76.000000</td>\n",
       "      <td>76.000000</td>\n",
       "    </tr>\n",
       "    <tr>\n",
       "      <th>3</th>\n",
       "      <td>2012-10-01 15:00:00</td>\n",
       "      <td>76.000000</td>\n",
       "      <td>76.333333</td>\n",
       "    </tr>\n",
       "    <tr>\n",
       "      <th>4</th>\n",
       "      <td>2012-10-01 16:00:00</td>\n",
       "      <td>77.000000</td>\n",
       "      <td>77.000000</td>\n",
       "    </tr>\n",
       "    <tr>\n",
       "      <th>5</th>\n",
       "      <td>2012-10-01 17:00:00</td>\n",
       "      <td>78.000000</td>\n",
       "      <td>77.666667</td>\n",
       "    </tr>\n",
       "    <tr>\n",
       "      <th>6</th>\n",
       "      <td>2012-10-01 18:00:00</td>\n",
       "      <td>78.000000</td>\n",
       "      <td>78.333333</td>\n",
       "    </tr>\n",
       "    <tr>\n",
       "      <th>7</th>\n",
       "      <td>2012-10-01 19:00:00</td>\n",
       "      <td>79.000000</td>\n",
       "      <td>78.666667</td>\n",
       "    </tr>\n",
       "    <tr>\n",
       "      <th>8</th>\n",
       "      <td>2012-10-01 20:00:00</td>\n",
       "      <td>79.000000</td>\n",
       "      <td>79.333333</td>\n",
       "    </tr>\n",
       "    <tr>\n",
       "      <th>9</th>\n",
       "      <td>2012-10-01 21:00:00</td>\n",
       "      <td>80.000000</td>\n",
       "      <td>80.000000</td>\n",
       "    </tr>\n",
       "    <tr>\n",
       "      <th>10</th>\n",
       "      <td>2012-10-01 22:00:00</td>\n",
       "      <td>81.000000</td>\n",
       "      <td>80.666667</td>\n",
       "    </tr>\n",
       "    <tr>\n",
       "      <th>11</th>\n",
       "      <td>2012-10-01 23:00:00</td>\n",
       "      <td>81.000000</td>\n",
       "      <td>NaN</td>\n",
       "    </tr>\n",
       "  </tbody>\n",
       "</table>\n",
       "</div>"
      ],
      "text/plain": [
       "             datetime2  Vancouver        AVG\n",
       "0  2012-10-01 12:00:00  78.272727        NaN\n",
       "1  2012-10-01 13:00:00  76.000000  76.757576\n",
       "2  2012-10-01 14:00:00  76.000000  76.000000\n",
       "3  2012-10-01 15:00:00  76.000000  76.333333\n",
       "4  2012-10-01 16:00:00  77.000000  77.000000\n",
       "5  2012-10-01 17:00:00  78.000000  77.666667\n",
       "6  2012-10-01 18:00:00  78.000000  78.333333\n",
       "7  2012-10-01 19:00:00  79.000000  78.666667\n",
       "8  2012-10-01 20:00:00  79.000000  79.333333\n",
       "9  2012-10-01 21:00:00  80.000000  80.000000\n",
       "10 2012-10-01 22:00:00  81.000000  80.666667\n",
       "11 2012-10-01 23:00:00  81.000000        NaN"
      ]
     },
     "execution_count": 244,
     "metadata": {},
     "output_type": "execute_result"
    }
   ],
   "source": [
    "df2 = df.loc [:, ['datetime2', 'Vancouver']]\n",
    "#Compute Rolling average into new column\n",
    "\n",
    "df2 ['AVG'] = df2 ['Vancouver']. rolling (3, center = True) .mean (skipna = False)\n",
    "df2"
   ]
  },
  {
   "cell_type": "code",
   "execution_count": 247,
   "id": "14e5e3fa",
   "metadata": {},
   "outputs": [
    {
     "data": {
      "image/png": "[encoded data removed]",
      "text/plain": [
       "<Figure size 432x288 with 1 Axes>"
      ]
     },
     "metadata": {
      "needs_background": "light"
     },
     "output_type": "display_data"
    }
   ],
   "source": [
    "#plot data and Rolling average\n",
    "\n",
    "plt.plot (df2 ['datetime2'], df2 ['Vancouver'])\n",
    "\n",
    "plt.plot (df2 ['datetime2'], df2 ['AVG'])\n",
    "\n",
    "plt.show ()"
   ]
  },
  {
   "cell_type": "code",
   "execution_count": null,
   "id": "cee33edc",
   "metadata": {},
   "outputs": [],
   "source": []
  }
 ],
 "metadata": {
  "kernelspec": {
   "display_name": "Python 3 (ipykernel)",
   "language": "python",
   "name": "python3"
  },
  "language_info": {
   "codemirror_mode": {
    "name": "ipython",
    "version": 3
   },
   "file_extension": ".py",
   "mimetype": "text/x-python",
   "name": "python",
   "nbconvert_exporter": "python",
   "pygments_lexer": "ipython3",
   "version": "3.10.4"
  }
 },
 "nbformat": 4,
 "nbformat_minor": 5
}
